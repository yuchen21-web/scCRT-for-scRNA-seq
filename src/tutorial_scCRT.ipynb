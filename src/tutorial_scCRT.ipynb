{
 "cells": [
  {
   "cell_type": "code",
   "execution_count": null,
   "outputs": [],
   "source": [
    "from scCRT.utils_func import *\n",
    "from scCRT.Estimate import Estimate_time\n",
    "device = torch.device('cpu')\n",
    "\n",
    "\n",
    "import umap\n",
    "import umap.plot\n",
    "\n",
    "import matplotlib.pyplot as plt\n",
    "import matplotlib"
   ],
   "metadata": {
    "collapsed": false,
    "pycharm": {
     "name": "#%%\n"
    }
   }
  },
  {
   "cell_type": "code",
   "execution_count": null,
   "outputs": [],
   "source": [
    "############################## 1. Given the raw count and preprocess data  ##############################\n",
    "'''\n",
    "actual topology of binary_tree_8\n",
    "M1 --> M3\n",
    "M3 --> M2\n",
    "M3 --> M7\n",
    "M7 --> M5\n",
    "M5 --> M4\n",
    "M5 --> M6\n",
    "M7 --> M8\n",
    "'''\n",
    "# from .rds\n",
    "# dataset_path = 'src/scCRT/data/binary_tree_8.rds'\n",
    "dataset_path = '/Users/seutatsu/PycharmProjects/scCRT/src/scCRT/data/binary_tree_8.rds'\n",
    "dataset_label_path = None\n",
    "\n",
    "# from .csv\n",
    "# dataset_path = 'src/scCRT/data/binary_tree_8.csv'\n",
    "# dataset_label_path = 'src/scCRT/data/binary_tree_8_label.csv'\n",
    "\n",
    "\n",
    "\n",
    "## get and preprocess data\n",
    "# get_data\n",
    "data_counts, cell_labels, cells, name2ids, ids2name, cell_times, pre_infos = getInputData(dataset_path, \n",
    "                                                                                          dataset_label_path)\n",
    "\n",
    "# preprocess\n",
    "if cell_labels is None:\n",
    "    features, cell_labels = pre_process(data_counts, WithoutLabel=True)\n",
    "else:\n",
    "    features = pre_process(data_counts)"
   ],
   "metadata": {
    "collapsed": false,
    "pycharm": {
     "name": "#%%\n"
    }
   }
  },
  {
   "cell_type": "code",
   "execution_count": null,
   "outputs": [],
   "source": [],
   "metadata": {
    "collapsed": false,
    "pycharm": {
     "name": "#%%\n"
    }
   }
  },
  {
   "cell_type": "code",
   "execution_count": null,
   "outputs": [],
   "source": [
    "############################## 2. learn cell features  ##############################\n",
    "'''\n",
    "Parameters\n",
    "----------\n",
    "input: \n",
    "features: the preprocessed expression matrix, [n_cell, n_genes], numpy.array\n",
    "cell_labels: the label of cells, numpy.array\n",
    "\n",
    "output: \n",
    "y_features: the learned cell features, [n_cell, feature_size]\n",
    "'''\n",
    "\n",
    "model_path = 'scCRT/data/binary_tree_8_model.pkl'\n",
    "y_features = trainingModel(features, cell_labels, device, hidden=[128, 16],  k=20, epochs=200, model_path=model_path)"
   ],
   "metadata": {
    "collapsed": false,
    "pycharm": {
     "name": "#%%\n"
    }
   }
  },
  {
   "cell_type": "code",
   "execution_count": null,
   "outputs": [],
   "source": [
    "############################## 3. get trajectory ##############################\n",
    "# given the start node\n",
    "if pre_infos is not None:\n",
    "    start_node = name2ids[str(pandas2ri.rpy2py(pre_infos[2])[0])]\n",
    "else:\n",
    "    start_node=0\n",
    "\n",
    "# get the clusters\n",
    "trajectory, network, evaluation_details = get_trajectory(cell_labels, \n",
    "            y_features, ids2name, cells, start_node=start_node, norm=False, k=20)\n",
    "\n",
    "for [s,t] in zip(network[0], network[1]):\n",
    "    print(f'{s} --> {t}')"
   ],
   "metadata": {
    "collapsed": false,
    "pycharm": {
     "name": "#%%\n"
    }
   }
  },
  {
   "cell_type": "code",
   "execution_count": null,
   "outputs": [],
   "source": [
    "############################## 3.1 evaluation the trajectory ##############################\n",
    "# calculate HIM, F1-branches, F1-milestones using dyneval (need to install dyneval of R version)\n",
    "if '.rds' in dataset_path:\n",
    "    HIM, F1_branches, F1_milestones = evaluation(pre_infos, evaluation_details)\n",
    "    print('HIM:{:.3f}, F1-branches:{:.3f}, F1-milestones:{:.3f}'.format(HIM, F1_branches, F1_milestones))"
   ],
   "metadata": {
    "collapsed": false,
    "pycharm": {
     "name": "#%%\n"
    }
   }
  },
  {
   "cell_type": "code",
   "execution_count": null,
   "outputs": [],
   "source": [],
   "metadata": {
    "collapsed": false,
    "pycharm": {
     "name": "#%%\n"
    }
   }
  },
  {
   "cell_type": "code",
   "execution_count": null,
   "outputs": [],
   "source": [
    "############################## 4. estimate pseudotimes ##############################\n",
    "time_model = Estimate_time(y_features, cell_labels, start_node=start_node, \n",
    "                          k=20)\n",
    "time_model.fit(num_epochs=1)\n",
    "\n",
    "predict_times = time_model.unified_pseudotime.astype(float)"
   ],
   "metadata": {
    "collapsed": false,
    "pycharm": {
     "name": "#%%\n"
    }
   }
  },
  {
   "cell_type": "code",
   "execution_count": null,
   "outputs": [],
   "source": [
    "# (1) the PCCs of all cells\n",
    "total_time = np.corrcoef(predict_times, cell_times.astype(float))[1,0]\n",
    "\n",
    "# (2) the average PCCs of each lineage\n",
    "avg_times = []\n",
    "for one_line, curve in zip(time_model.Lineage_class.lineages, time_model.curves):\n",
    "    cell_mask = np.logical_or.reduce(np.array([cell_labels == k for k in one_line.lineage]))\n",
    "    pseudotime = curve.pseudotimes_interp[cell_mask] # 预测顺序\n",
    "    select_cells_times = cell_times[cell_mask]\n",
    "    avg_times.append(np.corrcoef(pseudotime.astype(float), select_cells_times.astype(float))[1,0])\n",
    "\n",
    "avg_time = np.mean(np.array(avg_times))"
   ],
   "metadata": {
    "collapsed": false,
    "pycharm": {
     "name": "#%%\n"
    }
   }
  },
  {
   "cell_type": "code",
   "execution_count": null,
   "outputs": [],
   "source": [
    "avg_time"
   ],
   "metadata": {
    "collapsed": false,
    "pycharm": {
     "name": "#%%\n"
    }
   }
  },
  {
   "cell_type": "code",
   "execution_count": null,
   "outputs": [],
   "source": [],
   "metadata": {
    "collapsed": false,
    "pycharm": {
     "name": "#%%\n"
    }
   }
  },
  {
   "cell_type": "code",
   "execution_count": null,
   "metadata": {
    "pycharm": {
     "name": "#%%\n"
    }
   },
   "outputs": [],
   "source": []
  }
 ],
 "metadata": {
  "kernelspec": {
   "display_name": "Python 3",
   "language": "python",
   "name": "python3"
  },
  "language_info": {
   "codemirror_mode": {
    "name": "ipython",
    "version": 3
   },
   "file_extension": ".py",
   "mimetype": "text/x-python",
   "name": "python",
   "nbconvert_exporter": "python",
   "pygments_lexer": "ipython3",
   "version": "3.7.2"
  }
 },
 "nbformat": 4,
 "nbformat_minor": 2
}